{
 "cells": [
  {
   "cell_type": "markdown",
   "metadata": {},
   "source": [
    "# Stop Words"
   ]
  },
  {
   "cell_type": "markdown",
   "metadata": {},
   "source": [
    "What is stop words? a list of collection word which does not add much meaning to a sentence. These word can safely be ignored without sacrificing the meaning of the sentence."
   ]
  },
  {
   "cell_type": "code",
   "execution_count": 1,
   "metadata": {},
   "outputs": [],
   "source": [
    "import spacy"
   ]
  },
  {
   "cell_type": "code",
   "execution_count": 2,
   "metadata": {},
   "outputs": [],
   "source": [
    "nlp = spacy.load('en_core_web_sm')"
   ]
  },
  {
   "cell_type": "markdown",
   "metadata": {},
   "source": [
    "#### Printing a list of stopwords within the SpaCy library model."
   ]
  },
  {
   "cell_type": "code",
   "execution_count": 4,
   "metadata": {},
   "outputs": [
    {
     "name": "stdout",
     "output_type": "stream",
     "text": [
      "{'him', 'those', 'put', 'do', '‘d', 'others', 'every', 'among', 'whither', 'thru', 'was', 'has', 'whenever', 'an', 'because', 'ourselves', 'amongst', 'toward', 'beforehand', 'afterwards', \"'ll\", '’d', 'again', 'whereby', \"'re\", 'had', 'across', 'amount', 'well', 'latter', 'fifty', 'noone', 'thereupon', 'am', 'neither', 'former', 'indeed', 're', 'that', 'this', 'full', 'nobody', 'since', 'various', \"'ve\", 'there', '‘m', 'while', 'anywhere', \"'d\", 'n‘t', \"n't\", 'or', 'done', 'myself', 'show', 'nor', 'keep', 'might', 'fifteen', 'never', 'if', 'with', 'most', 'three', 'eleven', 'whereafter', 'serious', 'your', 'you', 'some', 'ten', 'seems', 'their', 'before', 'nothing', 'bottom', 'out', 'from', 'six', 'side', 'against', 'thus', '‘s', 'by', 'between', 'during', 'also', 'where', 'even', 'are', 'either', 'next', 'often', 'several', 'else', 'really', 'under', '’m', 'is', 'be', 'see', 'two', 'too', 'does', '’ve', 'made', 'around', 'unless', 'forty', 'did', 'above', 'become', 'herein', 'part', '‘re', 'give', 'now', 'quite', 'along', 'anyhow', 'due', 'therefore', 'ever', 'only', 'could', 'should', 'somehow', 'via', 'within', 'yourself', 'except', 'his', 'much', 'rather', 'therein', 'so', 'very', 'what', 'towards', 'own', 'these', 'will', 'yet', 'below', 'but', 'say', 'please', 'less', 'none', 'a', 'everything', 'ours', 'cannot', 'using', 'otherwise', 'beside', 'enough', 'somewhere', 'anyone', 'becoming', 'whoever', '‘ve', 'it', 'alone', 'moreover', 'then', 'first', 'other', 'which', '’re', '‘ll', 'someone', 'call', 'further', 'go', 'sixty', 'something', 'them', 'themselves', 'used', 'yourselves', 'he', 'being', 'many', 'at', 'here', 'onto', 'whether', 'though', 'in', 'four', 'regarding', 'after', 'would', 'whatever', 'must', '’ll', 'although', 'thence', 'wherein', 'its', 'until', 'least', 'for', 'they', 'whereupon', 'make', 'became', 'elsewhere', 'any', 'the', 'everyone', 'top', 'seeming', 'already', 'together', 'on', 'her', 'whence', 'empty', 'beyond', 'into', 'latterly', 'hereby', 'without', 'as', 'through', 'another', 'sometime', 'to', 'how', 'were', 'just', 'nowhere', 'get', 'per', 'seemed', 'formerly', 'such', 'back', 'hence', 'who', 'hers', 'take', 'nevertheless', 'us', 'over', 'besides', 'of', 'one', 'ca', 'five', 'name', 'wherever', 'no', 'seem', 'down', 'hereupon', 'always', 'my', 'all', 'twelve', 'have', 'meanwhile', 'whole', 'yours', 'we', 'almost', 'last', 'hundred', 'same', 'twenty', 'anyway', 'each', 'may', 'both', 'doing', 'throughout', 'mostly', 'i', 'and', 'why', 'thereafter', 'eight', 'upon', 'anything', 'once', 'perhaps', 'she', 'sometimes', 'when', 'been', 'hereafter', 'nine', 'n’t', 'whom', 'himself', 'off', \"'m\", 'can', 'whose', 'our', 'still', 'everywhere', 'few', 'me', 'front', 'more', 'namely', 'than', 'thereby', 'whereas', 'becomes', 'however', 'up', '’s', 'third', 'not', 'itself', 'herself', 'mine', 'behind', 'about', \"'s\", 'move'}\n"
     ]
    }
   ],
   "source": [
    "print(nlp.Defaults.stop_words)"
   ]
  },
  {
   "cell_type": "markdown",
   "metadata": {},
   "source": [
    "#### Length of Stopwords Databases"
   ]
  },
  {
   "cell_type": "code",
   "execution_count": 5,
   "metadata": {},
   "outputs": [
    {
     "data": {
      "text/plain": [
       "326"
      ]
     },
     "execution_count": 5,
     "metadata": {},
     "output_type": "execute_result"
    }
   ],
   "source": [
    "len(nlp.Defaults.stop_words)"
   ]
  },
  {
   "cell_type": "markdown",
   "metadata": {},
   "source": [
    "#### Checking whether words is stopword?"
   ]
  },
  {
   "cell_type": "code",
   "execution_count": 6,
   "metadata": {},
   "outputs": [
    {
     "data": {
      "text/plain": [
       "True"
      ]
     },
     "execution_count": 6,
     "metadata": {},
     "output_type": "execute_result"
    }
   ],
   "source": [
    "nlp.vocab['is'].is_stop"
   ]
  },
  {
   "cell_type": "code",
   "execution_count": 7,
   "metadata": {},
   "outputs": [
    {
     "data": {
      "text/plain": [
       "False"
      ]
     },
     "execution_count": 7,
     "metadata": {},
     "output_type": "execute_result"
    }
   ],
   "source": [
    "nlp.vocab['consider'].is_stop"
   ]
  },
  {
   "cell_type": "markdown",
   "metadata": {},
   "source": [
    "#### Adding our own rules stopwords."
   ]
  },
  {
   "cell_type": "code",
   "execution_count": 8,
   "metadata": {},
   "outputs": [],
   "source": [
    "nlp.Defaults.stop_words.add('btw')"
   ]
  },
  {
   "cell_type": "code",
   "execution_count": 9,
   "metadata": {},
   "outputs": [],
   "source": [
    "nlp.vocab['btw'].is_stop = True"
   ]
  },
  {
   "cell_type": "code",
   "execution_count": 10,
   "metadata": {},
   "outputs": [
    {
     "data": {
      "text/plain": [
       "327"
      ]
     },
     "execution_count": 10,
     "metadata": {},
     "output_type": "execute_result"
    }
   ],
   "source": [
    "len(nlp.Defaults.stop_words)"
   ]
  },
  {
   "cell_type": "markdown",
   "metadata": {},
   "source": [
    "** Now our new recent stopword has been added."
   ]
  },
  {
   "cell_type": "code",
   "execution_count": 11,
   "metadata": {},
   "outputs": [
    {
     "data": {
      "text/plain": [
       "True"
      ]
     },
     "execution_count": 11,
     "metadata": {},
     "output_type": "execute_result"
    }
   ],
   "source": [
    "nlp.vocab['btw'].is_stop"
   ]
  },
  {
   "cell_type": "markdown",
   "metadata": {},
   "source": [
    "#### Removing Stopwords from Database."
   ]
  },
  {
   "cell_type": "code",
   "execution_count": 12,
   "metadata": {},
   "outputs": [],
   "source": [
    "nlp.Defaults.stop_words.remove('btw')"
   ]
  },
  {
   "cell_type": "code",
   "execution_count": 13,
   "metadata": {},
   "outputs": [],
   "source": [
    "nlp.vocab['btw'].is_stop = False"
   ]
  },
  {
   "cell_type": "code",
   "execution_count": 14,
   "metadata": {},
   "outputs": [
    {
     "data": {
      "text/plain": [
       "False"
      ]
     },
     "execution_count": 14,
     "metadata": {},
     "output_type": "execute_result"
    }
   ],
   "source": [
    "nlp.vocab['btw'].is_stop"
   ]
  }
 ],
 "metadata": {
  "kernelspec": {
   "display_name": "Python 3",
   "language": "python",
   "name": "python3"
  },
  "language_info": {
   "codemirror_mode": {
    "name": "ipython",
    "version": 3
   },
   "file_extension": ".py",
   "mimetype": "text/x-python",
   "name": "python",
   "nbconvert_exporter": "python",
   "pygments_lexer": "ipython3",
   "version": "3.6.9"
  }
 },
 "nbformat": 4,
 "nbformat_minor": 4
}
